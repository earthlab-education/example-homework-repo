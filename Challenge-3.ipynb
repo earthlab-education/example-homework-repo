{
 "cells": [
  {
   "cell_type": "markdown",
   "id": "17f40d20",
   "metadata": {},
   "source": [
    "## Challenge 3\n",
    "\n",
    "* Add a new file to the repo, commit the change and push it to github.com. Check to see that it’s there.\n",
    "* Use git log to view the history of changes that you’ve made."
   ]
  },
  {
   "cell_type": "code",
   "execution_count": null,
   "id": "adf62a74",
   "metadata": {},
   "outputs": [],
   "source": []
  }
 ],
 "metadata": {
  "kernelspec": {
   "display_name": "Python 3",
   "language": "python",
   "name": "python3"
  },
  "language_info": {
   "codemirror_mode": {
    "name": "ipython",
    "version": 3
   },
   "file_extension": ".py",
   "mimetype": "text/x-python",
   "name": "python",
   "nbconvert_exporter": "python",
   "pygments_lexer": "ipython3",
   "version": "3.8.10"
  }
 },
 "nbformat": 4,
 "nbformat_minor": 5
}
